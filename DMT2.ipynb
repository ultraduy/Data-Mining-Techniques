{
 "cells": [
  {
   "cell_type": "code",
   "execution_count": 394,
   "metadata": {},
   "outputs": [],
   "source": [
    "import pandas as pd\n",
    "import numpy as np\n",
    "import seaborn as sns\n",
    "import matplotlib.pyplot as plt"
   ]
  },
  {
   "cell_type": "code",
<<<<<<< HEAD
   "execution_count": 395,
   "metadata": {},
   "outputs": [
    {
     "data": {
      "text/html": [
       "<div>\n",
       "<style scoped>\n",
       "    .dataframe tbody tr th:only-of-type {\n",
       "        vertical-align: middle;\n",
       "    }\n",
       "\n",
       "    .dataframe tbody tr th {\n",
       "        vertical-align: top;\n",
       "    }\n",
       "\n",
       "    .dataframe thead th {\n",
       "        text-align: right;\n",
       "    }\n",
       "</style>\n",
       "<table border=\"1\" class=\"dataframe\">\n",
       "  <thead>\n",
       "    <tr style=\"text-align: right;\">\n",
       "      <th></th>\n",
       "      <th>PassengerId</th>\n",
       "      <th>Survived</th>\n",
       "      <th>Pclass</th>\n",
       "      <th>Name</th>\n",
       "      <th>Sex</th>\n",
       "      <th>Age</th>\n",
       "      <th>SibSp</th>\n",
       "      <th>Parch</th>\n",
       "      <th>Ticket</th>\n",
       "      <th>Fare</th>\n",
       "      <th>Cabin</th>\n",
       "      <th>Embarked</th>\n",
       "    </tr>\n",
       "  </thead>\n",
       "  <tbody>\n",
       "    <tr>\n",
       "      <th>0</th>\n",
       "      <td>1</td>\n",
       "      <td>0</td>\n",
       "      <td>3</td>\n",
       "      <td>Braund, Mr. Owen Harris</td>\n",
       "      <td>male</td>\n",
       "      <td>22.0</td>\n",
       "      <td>1</td>\n",
       "      <td>0</td>\n",
       "      <td>A/5 21171</td>\n",
       "      <td>7.250</td>\n",
       "      <td>NaN</td>\n",
       "      <td>S</td>\n",
       "    </tr>\n",
       "    <tr>\n",
       "      <th>1</th>\n",
       "      <td>2</td>\n",
       "      <td>1</td>\n",
       "      <td>1</td>\n",
       "      <td>Cumings, Mrs. John Bradley (Florence Briggs Th...</td>\n",
       "      <td>female</td>\n",
       "      <td>38.0</td>\n",
       "      <td>1</td>\n",
       "      <td>0</td>\n",
       "      <td>PC 17599</td>\n",
       "      <td>71.283</td>\n",
       "      <td>C85</td>\n",
       "      <td>C</td>\n",
       "    </tr>\n",
       "    <tr>\n",
       "      <th>2</th>\n",
       "      <td>3</td>\n",
       "      <td>1</td>\n",
       "      <td>3</td>\n",
       "      <td>Heikkinen, Miss. Laina</td>\n",
       "      <td>female</td>\n",
       "      <td>26.0</td>\n",
       "      <td>0</td>\n",
       "      <td>0</td>\n",
       "      <td>STON/O2. 3101282</td>\n",
       "      <td>7.925</td>\n",
       "      <td>NaN</td>\n",
       "      <td>S</td>\n",
       "    </tr>\n",
       "    <tr>\n",
       "      <th>3</th>\n",
       "      <td>4</td>\n",
       "      <td>1</td>\n",
       "      <td>1</td>\n",
       "      <td>Futrelle, Mrs. Jacques Heath (Lily May Peel)</td>\n",
       "      <td>female</td>\n",
       "      <td>35.0</td>\n",
       "      <td>1</td>\n",
       "      <td>0</td>\n",
       "      <td>113803</td>\n",
       "      <td>53.100</td>\n",
       "      <td>C123</td>\n",
       "      <td>S</td>\n",
       "    </tr>\n",
       "    <tr>\n",
       "      <th>4</th>\n",
       "      <td>5</td>\n",
       "      <td>0</td>\n",
       "      <td>3</td>\n",
       "      <td>Allen, Mr. William Henry</td>\n",
       "      <td>male</td>\n",
       "      <td>35.0</td>\n",
       "      <td>0</td>\n",
       "      <td>0</td>\n",
       "      <td>373450</td>\n",
       "      <td>8.050</td>\n",
       "      <td>NaN</td>\n",
       "      <td>S</td>\n",
       "    </tr>\n",
       "    <tr>\n",
       "      <th>5</th>\n",
       "      <td>6</td>\n",
       "      <td>0</td>\n",
       "      <td>3</td>\n",
       "      <td>Moran, Mr. James</td>\n",
       "      <td>male</td>\n",
       "      <td>0.0</td>\n",
       "      <td>0</td>\n",
       "      <td>0</td>\n",
       "      <td>330877</td>\n",
       "      <td>8.458</td>\n",
       "      <td>NaN</td>\n",
       "      <td>Q</td>\n",
       "    </tr>\n",
       "    <tr>\n",
       "      <th>6</th>\n",
       "      <td>7</td>\n",
       "      <td>0</td>\n",
       "      <td>1</td>\n",
       "      <td>McCarthy, Mr. Timothy J</td>\n",
       "      <td>male</td>\n",
       "      <td>54.0</td>\n",
       "      <td>0</td>\n",
       "      <td>0</td>\n",
       "      <td>17463</td>\n",
       "      <td>51.862</td>\n",
       "      <td>E46</td>\n",
       "      <td>S</td>\n",
       "    </tr>\n",
       "    <tr>\n",
       "      <th>7</th>\n",
       "      <td>8</td>\n",
       "      <td>0</td>\n",
       "      <td>3</td>\n",
       "      <td>Palsson, Master. Gosta Leonard</td>\n",
       "      <td>male</td>\n",
       "      <td>2.0</td>\n",
       "      <td>3</td>\n",
       "      <td>1</td>\n",
       "      <td>349909</td>\n",
       "      <td>21.075</td>\n",
       "      <td>NaN</td>\n",
       "      <td>S</td>\n",
       "    </tr>\n",
       "    <tr>\n",
       "      <th>8</th>\n",
       "      <td>9</td>\n",
       "      <td>1</td>\n",
       "      <td>3</td>\n",
       "      <td>Johnson, Mrs. Oscar W (Elisabeth Vilhelmina Berg)</td>\n",
       "      <td>female</td>\n",
       "      <td>27.0</td>\n",
       "      <td>0</td>\n",
       "      <td>2</td>\n",
       "      <td>347742</td>\n",
       "      <td>11.133</td>\n",
       "      <td>NaN</td>\n",
       "      <td>S</td>\n",
       "    </tr>\n",
       "    <tr>\n",
       "      <th>9</th>\n",
       "      <td>10</td>\n",
       "      <td>1</td>\n",
       "      <td>2</td>\n",
       "      <td>Nasser, Mrs. Nicholas (Adele Achem)</td>\n",
       "      <td>female</td>\n",
       "      <td>14.0</td>\n",
       "      <td>1</td>\n",
       "      <td>0</td>\n",
       "      <td>237736</td>\n",
       "      <td>30.071</td>\n",
       "      <td>NaN</td>\n",
       "      <td>C</td>\n",
       "    </tr>\n",
       "    <tr>\n",
       "      <th>10</th>\n",
       "      <td>11</td>\n",
       "      <td>1</td>\n",
       "      <td>3</td>\n",
       "      <td>Sandstrom, Miss. Marguerite Rut</td>\n",
       "      <td>female</td>\n",
       "      <td>4.0</td>\n",
       "      <td>1</td>\n",
       "      <td>1</td>\n",
       "      <td>PP 9549</td>\n",
       "      <td>16.700</td>\n",
       "      <td>G6</td>\n",
       "      <td>S</td>\n",
       "    </tr>\n",
       "    <tr>\n",
       "      <th>11</th>\n",
       "      <td>12</td>\n",
       "      <td>1</td>\n",
       "      <td>1</td>\n",
       "      <td>Bonnell, Miss. Elizabeth</td>\n",
       "      <td>female</td>\n",
       "      <td>58.0</td>\n",
       "      <td>0</td>\n",
       "      <td>0</td>\n",
       "      <td>113783</td>\n",
       "      <td>26.550</td>\n",
       "      <td>C103</td>\n",
       "      <td>S</td>\n",
       "    </tr>\n",
       "    <tr>\n",
       "      <th>12</th>\n",
       "      <td>13</td>\n",
       "      <td>0</td>\n",
       "      <td>3</td>\n",
       "      <td>Saundercock, Mr. William Henry</td>\n",
       "      <td>male</td>\n",
       "      <td>20.0</td>\n",
       "      <td>0</td>\n",
       "      <td>0</td>\n",
       "      <td>A/5. 2151</td>\n",
       "      <td>8.050</td>\n",
       "      <td>NaN</td>\n",
       "      <td>S</td>\n",
       "    </tr>\n",
       "    <tr>\n",
       "      <th>13</th>\n",
       "      <td>14</td>\n",
       "      <td>0</td>\n",
       "      <td>3</td>\n",
       "      <td>Andersson, Mr. Anders Johan</td>\n",
       "      <td>male</td>\n",
       "      <td>39.0</td>\n",
       "      <td>1</td>\n",
       "      <td>5</td>\n",
       "      <td>347082</td>\n",
       "      <td>31.275</td>\n",
       "      <td>NaN</td>\n",
       "      <td>S</td>\n",
       "    </tr>\n",
       "    <tr>\n",
       "      <th>14</th>\n",
       "      <td>15</td>\n",
       "      <td>0</td>\n",
       "      <td>3</td>\n",
       "      <td>Vestrom, Miss. Hulda Amanda Adolfina</td>\n",
       "      <td>female</td>\n",
       "      <td>14.0</td>\n",
       "      <td>0</td>\n",
       "      <td>0</td>\n",
       "      <td>350406</td>\n",
       "      <td>7.854</td>\n",
       "      <td>NaN</td>\n",
       "      <td>S</td>\n",
       "    </tr>\n",
       "    <tr>\n",
       "      <th>15</th>\n",
       "      <td>16</td>\n",
       "      <td>1</td>\n",
       "      <td>2</td>\n",
       "      <td>Hewlett, Mrs. (Mary D Kingcome)</td>\n",
       "      <td>female</td>\n",
       "      <td>55.0</td>\n",
       "      <td>0</td>\n",
       "      <td>0</td>\n",
       "      <td>248706</td>\n",
       "      <td>16.000</td>\n",
       "      <td>NaN</td>\n",
       "      <td>S</td>\n",
       "    </tr>\n",
       "    <tr>\n",
       "      <th>16</th>\n",
       "      <td>17</td>\n",
       "      <td>0</td>\n",
       "      <td>3</td>\n",
       "      <td>Rice, Master. Eugene</td>\n",
       "      <td>male</td>\n",
       "      <td>2.0</td>\n",
       "      <td>4</td>\n",
       "      <td>1</td>\n",
       "      <td>382652</td>\n",
       "      <td>29.125</td>\n",
       "      <td>NaN</td>\n",
       "      <td>Q</td>\n",
       "    </tr>\n",
       "    <tr>\n",
       "      <th>17</th>\n",
       "      <td>18</td>\n",
       "      <td>1</td>\n",
       "      <td>2</td>\n",
       "      <td>Williams, Mr. Charles Eugene</td>\n",
       "      <td>male</td>\n",
       "      <td>0.0</td>\n",
       "      <td>0</td>\n",
       "      <td>0</td>\n",
       "      <td>244373</td>\n",
       "      <td>13.000</td>\n",
       "      <td>NaN</td>\n",
       "      <td>S</td>\n",
       "    </tr>\n",
       "    <tr>\n",
       "      <th>18</th>\n",
       "      <td>19</td>\n",
       "      <td>0</td>\n",
       "      <td>3</td>\n",
       "      <td>Vander Planke, Mrs. Julius (Emelia Maria Vande...</td>\n",
       "      <td>female</td>\n",
       "      <td>31.0</td>\n",
       "      <td>1</td>\n",
       "      <td>0</td>\n",
       "      <td>345763</td>\n",
       "      <td>18.000</td>\n",
       "      <td>NaN</td>\n",
       "      <td>S</td>\n",
       "    </tr>\n",
       "    <tr>\n",
       "      <th>19</th>\n",
       "      <td>20</td>\n",
       "      <td>1</td>\n",
       "      <td>3</td>\n",
       "      <td>Masselmani, Mrs. Fatima</td>\n",
       "      <td>female</td>\n",
       "      <td>0.0</td>\n",
       "      <td>0</td>\n",
       "      <td>0</td>\n",
       "      <td>2649</td>\n",
       "      <td>7.225</td>\n",
       "      <td>NaN</td>\n",
       "      <td>C</td>\n",
       "    </tr>\n",
       "  </tbody>\n",
       "</table>\n",
       "</div>"
      ],
      "text/plain": [
       "    PassengerId  Survived  Pclass  \\\n",
       "0             1         0       3   \n",
       "1             2         1       1   \n",
       "2             3         1       3   \n",
       "3             4         1       1   \n",
       "4             5         0       3   \n",
       "5             6         0       3   \n",
       "6             7         0       1   \n",
       "7             8         0       3   \n",
       "8             9         1       3   \n",
       "9            10         1       2   \n",
       "10           11         1       3   \n",
       "11           12         1       1   \n",
       "12           13         0       3   \n",
       "13           14         0       3   \n",
       "14           15         0       3   \n",
       "15           16         1       2   \n",
       "16           17         0       3   \n",
       "17           18         1       2   \n",
       "18           19         0       3   \n",
       "19           20         1       3   \n",
       "\n",
       "                                                 Name     Sex   Age  SibSp  \\\n",
       "0                             Braund, Mr. Owen Harris    male  22.0      1   \n",
       "1   Cumings, Mrs. John Bradley (Florence Briggs Th...  female  38.0      1   \n",
       "2                              Heikkinen, Miss. Laina  female  26.0      0   \n",
       "3        Futrelle, Mrs. Jacques Heath (Lily May Peel)  female  35.0      1   \n",
       "4                            Allen, Mr. William Henry    male  35.0      0   \n",
       "5                                    Moran, Mr. James    male   0.0      0   \n",
       "6                             McCarthy, Mr. Timothy J    male  54.0      0   \n",
       "7                      Palsson, Master. Gosta Leonard    male   2.0      3   \n",
       "8   Johnson, Mrs. Oscar W (Elisabeth Vilhelmina Berg)  female  27.0      0   \n",
       "9                 Nasser, Mrs. Nicholas (Adele Achem)  female  14.0      1   \n",
       "10                    Sandstrom, Miss. Marguerite Rut  female   4.0      1   \n",
       "11                           Bonnell, Miss. Elizabeth  female  58.0      0   \n",
       "12                     Saundercock, Mr. William Henry    male  20.0      0   \n",
       "13                        Andersson, Mr. Anders Johan    male  39.0      1   \n",
       "14               Vestrom, Miss. Hulda Amanda Adolfina  female  14.0      0   \n",
       "15                   Hewlett, Mrs. (Mary D Kingcome)   female  55.0      0   \n",
       "16                               Rice, Master. Eugene    male   2.0      4   \n",
       "17                       Williams, Mr. Charles Eugene    male   0.0      0   \n",
       "18  Vander Planke, Mrs. Julius (Emelia Maria Vande...  female  31.0      1   \n",
       "19                            Masselmani, Mrs. Fatima  female   0.0      0   \n",
       "\n",
       "    Parch            Ticket    Fare Cabin Embarked  \n",
       "0       0         A/5 21171   7.250   NaN        S  \n",
       "1       0          PC 17599  71.283   C85        C  \n",
       "2       0  STON/O2. 3101282   7.925   NaN        S  \n",
       "3       0            113803  53.100  C123        S  \n",
       "4       0            373450   8.050   NaN        S  \n",
       "5       0            330877   8.458   NaN        Q  \n",
       "6       0             17463  51.862   E46        S  \n",
       "7       1            349909  21.075   NaN        S  \n",
       "8       2            347742  11.133   NaN        S  \n",
       "9       0            237736  30.071   NaN        C  \n",
       "10      1           PP 9549  16.700    G6        S  \n",
       "11      0            113783  26.550  C103        S  \n",
       "12      0         A/5. 2151   8.050   NaN        S  \n",
       "13      5            347082  31.275   NaN        S  \n",
       "14      0            350406   7.854   NaN        S  \n",
       "15      0            248706  16.000   NaN        S  \n",
       "16      1            382652  29.125   NaN        Q  \n",
       "17      0            244373  13.000   NaN        S  \n",
       "18      0            345763  18.000   NaN        S  \n",
       "19      0              2649   7.225   NaN        C  "
      ]
     },
     "execution_count": 395,
     "metadata": {},
     "output_type": "execute_result"
    }
   ],
   "source": [
    "data = pd.read_csv(\"train.csv\", delimiter= \",\")\n",
    "\n",
    "data['Age'] = data['Age'].fillna(0)\n",
    "\n",
    "data.head(20)\n"
   ]
  },
  {
   "cell_type": "code",
   "execution_count": 396,
   "metadata": {},
   "outputs": [
    {
     "name": "stdout",
     "output_type": "stream",
     "text": [
      "PassengerId      int64\n",
      "Survived         int64\n",
      "Pclass           int64\n",
      "Name            object\n",
      "Sex             object\n",
      "Age            float64\n",
      "SibSp            int64\n",
      "Parch            int64\n",
      "Ticket          object\n",
      "Fare           float64\n",
      "Cabin           object\n",
      "Embarked        object\n",
      "dtype: object\n"
     ]
    }
   ],
   "source": [
    "types=data.dtypes\n",
    "\n",
    "print(types)"
   ]
  },
  {
   "cell_type": "code",
   "execution_count": 397,
   "metadata": {},
   "outputs": [],
   "source": [
    "data['Sex'] = np.where(data['Sex'] == 'male', 1 ,0)\n",
    "## if male then 1 and female 0 \n",
    "data.loc[data['SibSp']!=0,'SibSp'] = 1\n",
    "## Traveling alone SibSp is 0 and 1 if traveling with a passenger \n",
    "data['SibSp'] = np.where(data['SibSp'] == 1, 0 ,1)\n",
    "data.rename( columns={'SibSp':'TravelAlone','Sex':'male'}, inplace=True )"
   ]
  },
  {
   "cell_type": "code",
   "execution_count": 398,
   "metadata": {},
   "outputs": [],
   "source": [
    "data[\"male\"] = data[\"male\"].astype(str).astype(np.int64)\n",
    "data[\"TravelAlone\"] = data[\"TravelAlone\"].astype(str).astype(np.int64)"
   ]
  },
  {
   "cell_type": "code",
   "execution_count": 399,
   "metadata": {},
   "outputs": [],
   "source": [
    "data = data.iloc[:,[1,2,5,9,6,4]]"
   ]
  },
  {
   "cell_type": "code",
   "execution_count": 400,
   "metadata": {},
   "outputs": [
    {
     "data": {
      "text/html": [
       "<div>\n",
       "<style scoped>\n",
       "    .dataframe tbody tr th:only-of-type {\n",
       "        vertical-align: middle;\n",
       "    }\n",
       "\n",
       "    .dataframe tbody tr th {\n",
       "        vertical-align: top;\n",
       "    }\n",
       "\n",
       "    .dataframe thead th {\n",
       "        text-align: right;\n",
       "    }\n",
       "</style>\n",
       "<table border=\"1\" class=\"dataframe\">\n",
       "  <thead>\n",
       "    <tr style=\"text-align: right;\">\n",
       "      <th></th>\n",
       "      <th>Survived</th>\n",
       "      <th>Pclass</th>\n",
       "      <th>Age</th>\n",
       "      <th>Fare</th>\n",
       "      <th>TravelAlone</th>\n",
       "      <th>male</th>\n",
       "    </tr>\n",
       "  </thead>\n",
       "  <tbody>\n",
       "    <tr>\n",
       "      <th>0</th>\n",
       "      <td>0</td>\n",
       "      <td>3</td>\n",
       "      <td>22.0</td>\n",
       "      <td>7.250</td>\n",
       "      <td>0</td>\n",
       "      <td>1</td>\n",
       "    </tr>\n",
       "    <tr>\n",
       "      <th>1</th>\n",
       "      <td>1</td>\n",
       "      <td>1</td>\n",
       "      <td>38.0</td>\n",
       "      <td>71.283</td>\n",
       "      <td>0</td>\n",
       "      <td>0</td>\n",
       "    </tr>\n",
       "    <tr>\n",
       "      <th>2</th>\n",
       "      <td>1</td>\n",
       "      <td>3</td>\n",
       "      <td>26.0</td>\n",
       "      <td>7.925</td>\n",
       "      <td>1</td>\n",
       "      <td>0</td>\n",
       "    </tr>\n",
       "    <tr>\n",
       "      <th>3</th>\n",
       "      <td>1</td>\n",
       "      <td>1</td>\n",
       "      <td>35.0</td>\n",
       "      <td>53.100</td>\n",
       "      <td>0</td>\n",
       "      <td>0</td>\n",
       "    </tr>\n",
       "    <tr>\n",
       "      <th>4</th>\n",
       "      <td>0</td>\n",
       "      <td>3</td>\n",
       "      <td>35.0</td>\n",
       "      <td>8.050</td>\n",
       "      <td>1</td>\n",
       "      <td>1</td>\n",
       "    </tr>\n",
       "    <tr>\n",
       "      <th>...</th>\n",
       "      <td>...</td>\n",
       "      <td>...</td>\n",
       "      <td>...</td>\n",
       "      <td>...</td>\n",
       "      <td>...</td>\n",
       "      <td>...</td>\n",
       "    </tr>\n",
       "    <tr>\n",
       "      <th>886</th>\n",
       "      <td>0</td>\n",
       "      <td>2</td>\n",
       "      <td>27.0</td>\n",
       "      <td>13.000</td>\n",
       "      <td>1</td>\n",
       "      <td>1</td>\n",
       "    </tr>\n",
       "    <tr>\n",
       "      <th>887</th>\n",
       "      <td>1</td>\n",
       "      <td>1</td>\n",
       "      <td>19.0</td>\n",
       "      <td>30.000</td>\n",
       "      <td>1</td>\n",
       "      <td>0</td>\n",
       "    </tr>\n",
       "    <tr>\n",
       "      <th>888</th>\n",
       "      <td>0</td>\n",
       "      <td>3</td>\n",
       "      <td>0.0</td>\n",
       "      <td>23.450</td>\n",
       "      <td>0</td>\n",
       "      <td>0</td>\n",
       "    </tr>\n",
       "    <tr>\n",
       "      <th>889</th>\n",
       "      <td>1</td>\n",
       "      <td>1</td>\n",
       "      <td>26.0</td>\n",
       "      <td>30.000</td>\n",
       "      <td>1</td>\n",
       "      <td>1</td>\n",
       "    </tr>\n",
       "    <tr>\n",
       "      <th>890</th>\n",
       "      <td>0</td>\n",
       "      <td>3</td>\n",
       "      <td>32.0</td>\n",
       "      <td>7.750</td>\n",
       "      <td>1</td>\n",
       "      <td>1</td>\n",
       "    </tr>\n",
       "  </tbody>\n",
       "</table>\n",
       "<p>891 rows × 6 columns</p>\n",
       "</div>"
      ],
      "text/plain": [
       "     Survived  Pclass   Age    Fare  TravelAlone  male\n",
       "0           0       3  22.0   7.250            0     1\n",
       "1           1       1  38.0  71.283            0     0\n",
       "2           1       3  26.0   7.925            1     0\n",
       "3           1       1  35.0  53.100            0     0\n",
       "4           0       3  35.0   8.050            1     1\n",
       "..        ...     ...   ...     ...          ...   ...\n",
       "886         0       2  27.0  13.000            1     1\n",
       "887         1       1  19.0  30.000            1     0\n",
       "888         0       3   0.0  23.450            0     0\n",
       "889         1       1  26.0  30.000            1     1\n",
       "890         0       3  32.0   7.750            1     1\n",
       "\n",
       "[891 rows x 6 columns]"
      ]
     },
     "execution_count": 400,
     "metadata": {},
     "output_type": "execute_result"
    }
   ],
=======
   "execution_count": null,
   "metadata": {},
   "outputs": [],
>>>>>>> master
   "source": [
    "data"
   ]
  },
  {
   "cell_type": "code",
   "execution_count": 401,
   "metadata": {},
   "outputs": [
    {
     "name": "stdout",
     "output_type": "stream",
     "text": [
      "Survived         int64\n",
      "Pclass           int64\n",
      "Age            float64\n",
      "Fare           float64\n",
      "TravelAlone      int64\n",
      "male             int64\n",
      "dtype: object\n"
     ]
    }
   ],
   "source": [
    "types=data.dtypes\n",
    "\n",
    "print(types)"
   ]
  },
  {
   "cell_type": "code",
   "execution_count": 402,
   "metadata": {},
   "outputs": [
    {
     "name": "stdout",
     "output_type": "stream",
     "text": [
      "       Survived  Pclass    Age    Fare  TravelAlone    male\n",
      "count    891.00  891.00  891.0  891.00       891.00  891.00\n",
      "mean       0.38    2.31   23.8   32.20         0.68    0.65\n",
      "std        0.49    0.84   17.6   49.69         0.47    0.48\n",
      "min        0.00    1.00    0.0    0.00         0.00    0.00\n",
      "25%        0.00    2.00    6.0    7.91         0.00    0.00\n",
      "50%        0.00    3.00   24.0   14.45         1.00    1.00\n",
      "75%        1.00    3.00   35.0   31.00         1.00    1.00\n",
      "max        1.00    3.00   80.0  512.33         1.00    1.00\n"
     ]
    }
   ],
   "source": [
    "# Give some insights on descriptive statistics\n",
    "from pandas import set_option\n",
    "set_option('precision',2)\n",
    "description=data.describe()\n",
    "print(description)"
   ]
  },
  {
   "cell_type": "code",
   "execution_count": 403,
   "metadata": {},
   "outputs": [
    {
     "name": "stdout",
     "output_type": "stream",
     "text": [
      "             Survived  Pclass    Age   Fare  TravelAlone   male\n",
      "Survived        1.000  -0.338  0.011  0.257       -0.116 -0.543\n",
      "Pclass         -0.338   1.000 -0.361 -0.549        0.076  0.132\n",
      "Age             0.011  -0.361  1.000  0.136        0.044  0.025\n",
      "Fare            0.257  -0.549  0.136  1.000       -0.192 -0.182\n",
      "TravelAlone    -0.116   0.076  0.044 -0.192        1.000  0.203\n",
      "male           -0.543   0.132  0.025 -0.182        0.203  1.000\n"
     ]
    }
   ],
   "source": [
    "set_option('precision',3)\n",
    "correlation=data.corr(method='pearson')\n",
    "print(correlation)"
   ]
  },
  {
   "cell_type": "code",
   "execution_count": 404,
   "metadata": {},
   "outputs": [
    {
     "name": "stdout",
     "output_type": "stream",
     "text": [
      "Survived\n",
      "0    549\n",
      "1    342\n",
      "dtype: int64\n"
     ]
    }
   ],
   "source": [
    "class_count=data.groupby('Survived').size()\n",
    "print(class_count)"
   ]
  },
  {
   "cell_type": "code",
   "execution_count": 405,
   "metadata": {},
   "outputs": [
    {
     "name": "stdout",
     "output_type": "stream",
     "text": [
      "38.38383838383838\n"
     ]
    }
   ],
   "source": [
    "# Percentage of Survived \n",
    "percentage=342/891*100\n",
    "print(percentage)"
   ]
  },
  {
   "cell_type": "code",
   "execution_count": 406,
   "metadata": {},
   "outputs": [],
   "source": [
    "### Give 2 of each relations\n",
    "# 1. Strong Negative Correlation with Response variable\n",
    "# 2. Strong Positive Correlation with Response variable\n",
    "# 3. Weak Correlation (negative or Positive) with Response Variable\n",
    "# 4. Top 2 Strongly Correlated Features\n",
    "# 5. What do you expect are the top 3 features that influence the response variable\n",
    "\n",
    "#$Ans1 male and pclass\n",
    "#$Ans2 fare and survived \n",
    "#$Ans3 Age and survived\n",
    "#$Ans4 travel alone male vs fare survived \n",
    "#$Ans5 fare , male and pclass\n",
    "\n"
   ]
  },
  {
   "cell_type": "code",
   "execution_count": 407,
   "metadata": {},
   "outputs": [
    {
     "data": {
      "image/png": "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",
      "text/plain": [
       "<Figure size 1440x720 with 6 Axes>"
      ]
     },
     "metadata": {
      "needs_background": "light"
     },
     "output_type": "display_data"
    }
   ],
   "source": [
    "from matplotlib import pyplot \n",
    "%matplotlib inline\n",
    "import matplotlib as plt\n",
    "fig_size = plt.rcParams[\"figure.figsize\"]\n",
    "fig_size[0] = 20\n",
    "fig_size[1] = 10\n",
    "plt.rcParams[\"figure.figsize\"] = fig_size\n",
    "data.hist()\n",
    "pyplot.show()\n",
    "#Ans Age shows normal distribution , fare shows exponential distribution ,survived shows binary distribution , male and travel alone also show binary distribution, categorical  data and hold no significance \n"
   ]
  },
  {
   "cell_type": "code",
   "execution_count": 408,
   "metadata": {},
   "outputs": [
    {
     "data": {
      "image/png": "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",
      "text/plain": [
       "<Figure size 720x576 with 9 Axes>"
      ]
     },
     "metadata": {
      "needs_background": "light"
     },
     "output_type": "display_data"
    }
   ],
   "source": [
    "import matplotlib as plt\n",
    "fig_size[0]=10\n",
    "fig_size[1]=8\n",
    "plt.rcParams[\"figure.figsize\"] = fig_size\n",
    "data.plot(kind='density', subplots=True, layout=(3,3), sharex=False)\n",
    "pyplot.show()\n",
    "#because they are categorical in nature "
   ]
  },
  {
   "cell_type": "code",
   "execution_count": 409,
   "metadata": {},
   "outputs": [
    {
     "data": {
      "image/png": "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",
      "text/plain": [
       "<Figure size 720x576 with 9 Axes>"
      ]
     },
     "metadata": {
      "needs_background": "light"
     },
     "output_type": "display_data"
    }
   ],
   "source": [
    "import matplotlib as plt\n",
    "fig_size[0] = 10\n",
    "fig_size[1] = 8\n",
    "plt.rcParams[\"figure.figsize\"] = fig_size\n",
    "data[['Age','Fare']].plot(kind='box', subplots=True, layout=(3,3), sharex=False, sharey=False)\n",
    "pyplot.show()"
   ]
  },
  {
   "cell_type": "code",
   "execution_count": 410,
   "metadata": {},
   "outputs": [
    {
     "data": {
      "image/png": "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",
      "text/plain": [
       "<Figure size 720x576 with 2 Axes>"
      ]
     },
     "metadata": {
      "needs_background": "light"
     },
     "output_type": "display_data"
    }
   ],
   "source": [
    "import seaborn as sns\n",
    "correlation=data.corr()\n",
    "#plot correlation matrix\n",
    "fig=pyplot.figure()\n",
    "cax=sns.heatmap(correlation,vmin=-1,vmax=1,annot= True)\n",
    "pyplot.show()"
   ]
  },
  {
   "cell_type": "code",
   "execution_count": 411,
   "metadata": {},
   "outputs": [
    {
     "data": {
      "image/png": "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",
      "text/plain": [
       "<Figure size 720x576 with 4 Axes>"
      ]
     },
     "metadata": {
      "needs_background": "light"
     },
     "output_type": "display_data"
    }
   ],
   "source": [
    "from pandas.plotting import scatter_matrix\n",
    "fig_size[0] = 10\n",
    "fig_size[1] = 10\n",
    "scatter_matrix(data[['Age','Fare']])\n",
    "pyplot.show()"
   ]
  },
  {
   "cell_type": "code",
   "execution_count": 412,
   "metadata": {},
   "outputs": [
    {
     "data": {
      "text/plain": [
       "array([[<AxesSubplot:title={'center':'Survived'}>,\n",
       "        <AxesSubplot:title={'center':'Pclass'}>],\n",
       "       [<AxesSubplot:title={'center':'Age'}>,\n",
       "        <AxesSubplot:title={'center':'Fare'}>],\n",
       "       [<AxesSubplot:title={'center':'TravelAlone'}>,\n",
       "        <AxesSubplot:title={'center':'male'}>]], dtype=object)"
      ]
     },
     "execution_count": 412,
     "metadata": {},
     "output_type": "execute_result"
    },
    {
     "data": {
      "image/png": "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",
      "text/plain": [
       "<Figure size 720x576 with 6 Axes>"
      ]
     },
     "metadata": {
      "needs_background": "light"
     },
     "output_type": "display_data"
    }
   ],
   "source": [
    "data.hist()"
   ]
  },
  {
   "cell_type": "code",
   "execution_count": 413,
   "metadata": {},
   "outputs": [
    {
     "name": "stdout",
     "output_type": "stream",
     "text": [
      "<class 'pandas.core.frame.DataFrame'>\n",
      "RangeIndex: 891 entries, 0 to 890\n",
      "Data columns (total 6 columns):\n",
      " #   Column       Non-Null Count  Dtype  \n",
      "---  ------       --------------  -----  \n",
      " 0   Survived     891 non-null    int64  \n",
      " 1   Pclass       891 non-null    int64  \n",
      " 2   Age          891 non-null    float64\n",
      " 3   Fare         891 non-null    float64\n",
      " 4   TravelAlone  891 non-null    int64  \n",
      " 5   male         891 non-null    int64  \n",
      "dtypes: float64(2), int64(4)\n",
      "memory usage: 41.9 KB\n"
     ]
    }
   ],
   "source": [
    "data.info()"
   ]
  },
  {
   "cell_type": "code",
   "execution_count": 414,
   "metadata": {},
   "outputs": [
    {
     "name": "stdout",
     "output_type": "stream",
     "text": [
      "Percentage who survived: 38.38%\n"
     ]
    },
    {
     "data": {
      "image/png": "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",
      "text/plain": [
       "<Figure size 360x360 with 1 Axes>"
      ]
     },
     "metadata": {
      "needs_background": "light"
     },
     "output_type": "display_data"
    }
   ],
   "source": [
    "sns.catplot(x='Survived', data=data, kind='count').set(title='Survived')\n",
    "survived_perc = round((data['Survived'].sum()) / len(data.index) * 100,2)\n",
    "print(f'Percentage who survived: {survived_perc}%')\n"
   ]
  },
  {
   "cell_type": "code",
   "execution_count": 415,
   "metadata": {},
   "outputs": [
    {
     "data": {
      "text/plain": [
       "<seaborn.axisgrid.FacetGrid at 0x22ab9ad9460>"
      ]
     },
     "execution_count": 415,
     "metadata": {},
     "output_type": "execute_result"
    },
    {
     "data": {
      "image/png": "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",
      "text/plain": [
       "<Figure size 360x360 with 1 Axes>"
      ]
     },
     "metadata": {
      "needs_background": "light"
     },
     "output_type": "display_data"
    }
   ],
   "source": [
    "#Pclass\n",
    "sns.catplot(x='Pclass', data=data, kind='count').set(title='Pclass')\n"
   ]
  },
  {
   "cell_type": "code",
   "execution_count": 416,
   "metadata": {},
   "outputs": [
    {
     "data": {
      "text/plain": [
       "<seaborn.axisgrid.FacetGrid at 0x22ab4117b80>"
      ]
     },
     "execution_count": 416,
     "metadata": {},
     "output_type": "execute_result"
    },
    {
     "data": {
      "image/png": "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",
      "text/plain": [
       "<Figure size 411.875x360 with 1 Axes>"
      ]
     },
     "metadata": {
      "needs_background": "light"
     },
     "output_type": "display_data"
    }
   ],
   "source": [
    "# PClass and Survived\n",
    "sns.catplot(x='Pclass', hue='Survived', data=data, kind='count').set(title='Pclass and Survived')\n"
   ]
  },
  {
   "cell_type": "code",
   "execution_count": 417,
   "metadata": {},
   "outputs": [
    {
     "data": {
      "text/plain": [
       "<seaborn.axisgrid.FacetGrid at 0x22ab5e49490>"
      ]
     },
     "execution_count": 417,
     "metadata": {},
     "output_type": "execute_result"
    },
    {
     "data": {
      "image/png": "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",
      "text/plain": [
       "<Figure size 360x360 with 1 Axes>"
      ]
     },
     "metadata": {
      "needs_background": "light"
     },
     "output_type": "display_data"
    }
   ],
   "source": [
    "# Sex\n",
    "sns.catplot(x='male', data=data, kind='count').set(title='Sex')\n"
   ]
  },
  {
   "cell_type": "code",
   "execution_count": 418,
   "metadata": {},
   "outputs": [
    {
     "data": {
      "text/plain": [
       "<seaborn.axisgrid.FacetGrid at 0x22ab9a94c10>"
      ]
     },
     "execution_count": 418,
     "metadata": {},
     "output_type": "execute_result"
    },
    {
     "data": {
      "image/png": "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",
      "text/plain": [
       "<Figure size 411.875x360 with 1 Axes>"
      ]
     },
     "metadata": {
      "needs_background": "light"
     },
     "output_type": "display_data"
    }
   ],
   "source": [
    "# Sex and Survived\n",
    "sns.catplot(x='male', hue='Survived', data=data, kind='count').set(title='Sex and Survived')\n"
   ]
  },
  {
   "cell_type": "code",
   "execution_count": 419,
   "metadata": {},
   "outputs": [
    {
     "name": "stdout",
     "output_type": "stream",
     "text": [
      "[[ 0.827 -0.102 -0.502 -1.466  0.738]\n",
      " [-1.566  0.807  0.787 -1.466 -1.356]\n",
      " [ 0.827  0.125 -0.489  0.682 -1.356]\n",
      " [-1.566  0.637  0.421 -1.466 -1.356]\n",
      " [ 0.827  0.637 -0.486  0.682  0.738]]\n"
     ]
    }
   ],
   "source": [
    "import numpy\n",
    "from sklearn.preprocessing import StandardScaler\n",
    "from numpy import set_printoptions\n",
    "array = data.values\n",
    "# separate array into input and output components\n",
    "X = array[:,1:]\n",
    "Y = array[:,0]\n",
    "scaler = StandardScaler().fit(X)\n",
    "rescaledX_standardx = scaler.transform(X)\n",
    "# summarize transformed data\n",
    "set_printoptions(precision=3)\n",
    "print(rescaledX_standardx[0:5,:])"
   ]
  },
  {
   "cell_type": "code",
   "execution_count": 420,
   "metadata": {},
   "outputs": [
    {
     "name": "stdout",
     "output_type": "stream",
     "text": [
      "Index(['Survived', 'Pclass', 'Age', 'Fare', 'TravelAlone', 'male'], dtype='object')\n"
     ]
    }
   ],
   "source": [
    "A=data.columns\n",
    "print(A)"
   ]
  },
  {
   "cell_type": "code",
   "execution_count": 421,
   "metadata": {},
   "outputs": [
    {
     "name": "stdout",
     "output_type": "stream",
     "text": [
      "[[ 0.     0.827 -0.102 -0.502 -1.466  0.738]\n",
      " [ 1.    -1.566  0.807  0.787 -1.466 -1.356]\n",
      " [ 1.     0.827  0.125 -0.489  0.682 -1.356]\n",
      " ...\n",
      " [ 0.     0.827 -1.353 -0.176 -1.466 -1.356]\n",
      " [ 1.    -1.566  0.125 -0.044  0.682  0.738]\n",
      " [ 0.     0.827  0.466 -0.492  0.682  0.738]]\n",
      "     Survived  Pclass    Age   Fare  TravelAlone   male\n",
      "0         0.0   0.827 -0.102 -0.502       -1.466  0.738\n",
      "1         1.0  -1.566  0.807  0.787       -1.466 -1.356\n",
      "2         1.0   0.827  0.125 -0.489        0.682 -1.356\n",
      "3         1.0  -1.566  0.637  0.421       -1.466 -1.356\n",
      "4         0.0   0.827  0.637 -0.486        0.682  0.738\n",
      "..        ...     ...    ...    ...          ...    ...\n",
      "886       0.0  -0.369  0.182 -0.387        0.682  0.738\n",
      "887       1.0  -1.566 -0.273 -0.044        0.682 -1.356\n",
      "888       0.0   0.827 -1.353 -0.176       -1.466 -1.356\n",
      "889       1.0  -1.566  0.125 -0.044        0.682  0.738\n",
      "890       0.0   0.827  0.466 -0.492        0.682  0.738\n",
      "\n",
      "[891 rows x 6 columns]\n"
     ]
    }
   ],
   "source": [
    "# Add X and Y Rescaled Data into a single Array\n",
    "dummy1 = np.concatenate((Y.reshape(-1,1),rescaledX_standardx),axis=1)\n",
    "print(dummy1)\n",
    "# Convert np.array into a dataframe\n",
    "std=pd.DataFrame(dummy1, columns = A)\n",
    "print(std)"
   ]
  },
  {
   "cell_type": "code",
   "execution_count": 422,
   "metadata": {},
   "outputs": [
    {
     "data": {
      "text/html": [
       "<div>\n",
       "<style scoped>\n",
       "    .dataframe tbody tr th:only-of-type {\n",
       "        vertical-align: middle;\n",
       "    }\n",
       "\n",
       "    .dataframe tbody tr th {\n",
       "        vertical-align: top;\n",
       "    }\n",
       "\n",
       "    .dataframe thead th {\n",
       "        text-align: right;\n",
       "    }\n",
       "</style>\n",
       "<table border=\"1\" class=\"dataframe\">\n",
       "  <thead>\n",
       "    <tr style=\"text-align: right;\">\n",
       "      <th></th>\n",
       "      <th>Survived</th>\n",
       "      <th>Pclass</th>\n",
       "      <th>Age</th>\n",
       "      <th>Fare</th>\n",
       "      <th>TravelAlone</th>\n",
       "      <th>male</th>\n",
       "    </tr>\n",
       "  </thead>\n",
       "  <tbody>\n",
       "    <tr>\n",
       "      <th>count</th>\n",
       "      <td>891.000</td>\n",
       "      <td>8.910e+02</td>\n",
       "      <td>8.910e+02</td>\n",
       "      <td>8.910e+02</td>\n",
       "      <td>8.910e+02</td>\n",
       "      <td>8.910e+02</td>\n",
       "    </tr>\n",
       "    <tr>\n",
       "      <th>mean</th>\n",
       "      <td>0.384</td>\n",
       "      <td>-2.031e-16</td>\n",
       "      <td>-1.819e-17</td>\n",
       "      <td>-4.374e-17</td>\n",
       "      <td>2.328e-16</td>\n",
       "      <td>-4.060e-16</td>\n",
       "    </tr>\n",
       "    <tr>\n",
       "      <th>std</th>\n",
       "      <td>0.487</td>\n",
       "      <td>1.001e+00</td>\n",
       "      <td>1.001e+00</td>\n",
       "      <td>1.001e+00</td>\n",
       "      <td>1.001e+00</td>\n",
       "      <td>1.001e+00</td>\n",
       "    </tr>\n",
       "    <tr>\n",
       "      <th>min</th>\n",
       "      <td>0.000</td>\n",
       "      <td>-1.566e+00</td>\n",
       "      <td>-1.353e+00</td>\n",
       "      <td>-6.484e-01</td>\n",
       "      <td>-1.466e+00</td>\n",
       "      <td>-1.356e+00</td>\n",
       "    </tr>\n",
       "    <tr>\n",
       "      <th>25%</th>\n",
       "      <td>0.000</td>\n",
       "      <td>-3.694e-01</td>\n",
       "      <td>-1.012e+00</td>\n",
       "      <td>-4.891e-01</td>\n",
       "      <td>-1.466e+00</td>\n",
       "      <td>-1.356e+00</td>\n",
       "    </tr>\n",
       "    <tr>\n",
       "      <th>50%</th>\n",
       "      <td>0.000</td>\n",
       "      <td>8.274e-01</td>\n",
       "      <td>1.141e-02</td>\n",
       "      <td>-3.574e-01</td>\n",
       "      <td>6.822e-01</td>\n",
       "      <td>7.377e-01</td>\n",
       "    </tr>\n",
       "    <tr>\n",
       "      <th>75%</th>\n",
       "      <td>1.000</td>\n",
       "      <td>8.274e-01</td>\n",
       "      <td>6.369e-01</td>\n",
       "      <td>-2.425e-02</td>\n",
       "      <td>6.822e-01</td>\n",
       "      <td>7.377e-01</td>\n",
       "    </tr>\n",
       "    <tr>\n",
       "      <th>max</th>\n",
       "      <td>1.000</td>\n",
       "      <td>8.274e-01</td>\n",
       "      <td>3.196e+00</td>\n",
       "      <td>9.667e+00</td>\n",
       "      <td>6.822e-01</td>\n",
       "      <td>7.377e-01</td>\n",
       "    </tr>\n",
       "  </tbody>\n",
       "</table>\n",
       "</div>"
      ],
      "text/plain": [
       "       Survived     Pclass        Age       Fare  TravelAlone       male\n",
       "count   891.000  8.910e+02  8.910e+02  8.910e+02    8.910e+02  8.910e+02\n",
       "mean      0.384 -2.031e-16 -1.819e-17 -4.374e-17    2.328e-16 -4.060e-16\n",
       "std       0.487  1.001e+00  1.001e+00  1.001e+00    1.001e+00  1.001e+00\n",
       "min       0.000 -1.566e+00 -1.353e+00 -6.484e-01   -1.466e+00 -1.356e+00\n",
       "25%       0.000 -3.694e-01 -1.012e+00 -4.891e-01   -1.466e+00 -1.356e+00\n",
       "50%       0.000  8.274e-01  1.141e-02 -3.574e-01    6.822e-01  7.377e-01\n",
       "75%       1.000  8.274e-01  6.369e-01 -2.425e-02    6.822e-01  7.377e-01\n",
       "max       1.000  8.274e-01  3.196e+00  9.667e+00    6.822e-01  7.377e-01"
      ]
     },
     "execution_count": 422,
     "metadata": {},
     "output_type": "execute_result"
    }
   ],
   "source": [
    "std.describe()"
   ]
  },
  {
   "cell_type": "code",
   "execution_count": 423,
   "metadata": {},
   "outputs": [
    {
     "name": "stdout",
     "output_type": "stream",
     "text": [
      "[[ 3.    22.     7.25   0.     1.   ]\n",
      " [ 1.    38.    71.283  0.     0.   ]\n",
      " [ 3.    26.     7.925  1.     0.   ]\n",
      " ...\n",
      " [ 3.     0.    23.45   0.     0.   ]\n",
      " [ 1.    26.    30.     1.     1.   ]\n",
      " [ 3.    32.     7.75   1.     1.   ]]\n",
      "[3.087e+01 1.286e+00 4.518e+03 3.799e+00 9.270e+01]\n",
      "[[ 3.     7.25   0.     1.   ]\n",
      " [ 1.    71.283  0.     0.   ]\n",
      " [ 3.     7.925  1.     0.   ]\n",
      " [ 1.    53.1    0.     0.   ]\n",
      " [ 3.     8.05   1.     1.   ]]\n"
     ]
    }
   ],
   "source": [
    "# Perform the selectKbest fit\n",
    "from sklearn.feature_selection import SelectKBest\n",
    "from sklearn.feature_selection import chi2\n",
    "array = data.values\n",
    "X = array[:,1:]\n",
    "Y = array[:,0]\n",
    "print(X)\n",
    "# feature extraction\n",
    "test = SelectKBest(score_func=chi2, k=4)\n",
    "fit = test.fit(X, Y)\n",
    "# summarize scores\n",
    "set_printoptions(precision=3)\n",
    "print(fit.scores_)\n",
    "features = fit.transform(X)\n",
    "# summarize selected features\n",
    "print(features[0:5,:])"
   ]
  },
  {
   "cell_type": "code",
   "execution_count": 424,
   "metadata": {},
   "outputs": [
    {
     "data": {
      "text/plain": [
       "array([3.087e+01, 1.286e+00, 4.518e+03, 3.799e+00, 9.270e+01])"
      ]
     },
     "execution_count": 424,
     "metadata": {},
     "output_type": "execute_result"
    }
   ],
   "source": [
    "aa=fit.scores_\n",
    "aa"
   ]
  },
  {
   "cell_type": "code",
   "execution_count": 425,
   "metadata": {},
   "outputs": [
    {
     "name": "stdout",
     "output_type": "stream",
     "text": [
      "   Pclass    Age      Fare  TravelAlone    male\n",
      "0  30.874  1.286  4518.319        3.799  92.702\n"
     ]
    }
   ],
   "source": [
    "# Make a Dataframe of scores\n",
    "#column_list\n",
    "aa=fit.scores_\n",
    "A=pd.DataFrame(aa.reshape(1,5),columns=['Pclass','Age','Fare','TravelAlone','male'])\n",
    "print(A)"
   ]
  },
  {
   "cell_type": "code",
   "execution_count": 426,
   "metadata": {},
   "outputs": [],
   "source": [
    "from sklearn.naive_bayes import MultinomialNB\n",
    "from sklearn.neighbors import KNeighborsClassifier\n",
    "from sklearn.model_selection import GridSearchCV\n",
    "from sklearn.model_selection import cross_val_score"
   ]
  },
  {
   "cell_type": "code",
   "execution_count": 427,
   "metadata": {},
   "outputs": [
    {
     "name": "stdout",
     "output_type": "stream",
     "text": [
      "{'n_neighbors': 22}\n",
      "0.7004645031699204\n"
     ]
    }
   ],
   "source": [
    "knn2 = KNeighborsClassifier()\n",
    "#create a dictionary of all values we want to test for n_neighbors\n",
    "param_grid = {'n_neighbors' : np.arange(1, 25)}\n",
    "#use gridsearch to test all values for n_neighbors\n",
    "knn_gscv = GridSearchCV(knn2, param_grid, cv=5)\n",
    "#fit model to data\n",
    "knn_gscv.fit(X, Y)\n",
    "#check top performing n_neighbors value\n",
    "print(knn_gscv.best_params_)\n",
    "#check mean score for the top performing value of n_neighbors\n",
    "print(knn_gscv.best_score_)"
   ]
  },
  {
   "cell_type": "code",
   "execution_count": 428,
   "metadata": {},
   "outputs": [
    {
     "name": "stdout",
     "output_type": "stream",
     "text": [
      "Num Features: 3\n",
      "Selected Features: [ True False False  True  True]\n",
      "Feature Ranking: [1 2 3 1 1]\n"
     ]
    },
    {
     "name": "stderr",
     "output_type": "stream",
     "text": [
      "C:\\Users\\nishi\\anaconda3\\lib\\site-packages\\sklearn\\utils\\validation.py:67: FutureWarning: Pass n_features_to_select=3 as keyword args. From version 0.25 passing these as positional arguments will result in an error\n",
      "  warnings.warn(\"Pass {} as keyword args. From version 0.25 \"\n"
     ]
    }
   ],
   "source": [
    "from sklearn.feature_selection import RFE\n",
    "from sklearn.linear_model import LogisticRegression\n",
    "array = data.values\n",
    "X = array[:,1:]\n",
    "Y = array[:,0]\n",
    "# feature extraction\n",
    "model = LogisticRegression(solver='liblinear')\n",
    "rfe = RFE(model, 3)\n",
    "fit = rfe.fit(X, Y)\n",
    "print(\"Num Features: %d\" % fit.n_features_)\n",
    "print(\"Selected Features: %s\" % fit.support_)\n",
    "print(\"Feature Ranking: %s\" % fit.ranking_)"
   ]
  },
  {
   "cell_type": "code",
   "execution_count": null,
   "metadata": {},
   "outputs": [],
   "source": []
  },
  {
   "cell_type": "code",
   "execution_count": null,
   "metadata": {},
   "outputs": [],
   "source": []
  },
  {
   "cell_type": "code",
   "execution_count": null,
   "metadata": {},
   "outputs": [],
   "source": []
  }
 ],
 "metadata": {
  "interpreter": {
   "hash": "7718e57bc89ed0f3ee6cfcb523898868a1d8827a24a289488acb3b614e37378e"
  },
  "kernelspec": {
   "display_name": "Python 3.8.5 ('base')",
   "language": "python",
   "name": "python3"
  },
  "language_info": {
   "codemirror_mode": {
    "name": "ipython",
    "version": 3
   },
   "file_extension": ".py",
   "mimetype": "text/x-python",
   "name": "python",
   "nbconvert_exporter": "python",
   "pygments_lexer": "ipython3",
   "version": "3.8.5"
  },
  "orig_nbformat": 4
 },
 "nbformat": 4,
 "nbformat_minor": 2
}
